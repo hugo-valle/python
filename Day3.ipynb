{
 "cells": [
  {
   "cell_type": "markdown",
   "metadata": {},
   "source": [
    "# Iterables\n",
    "Today we will discuss\n",
    "* comprehensions\n",
    "* iterables of objects and iterators\n",
    "* lazy evaluation with generators\n",
    "* other tools "
   ]
  },
  {
   "cell_type": "markdown",
   "metadata": {},
   "source": [
    "## List Comprehension\n",
    "\n",
    "syntax:**[expr(item) for item in iterable]**\n",
    "\n",
    "* Readable\n",
    "* Expressive\n",
    "* Effective"
   ]
  },
  {
   "cell_type": "code",
   "execution_count": 1,
   "metadata": {},
   "outputs": [
    {
     "data": {
      "text/plain": [
       "['Today', 'I', 'am', 'very', 'happy', 'to', 'learn', 'comprehensions']"
      ]
     },
     "execution_count": 1,
     "metadata": {},
     "output_type": "execute_result"
    }
   ],
   "source": [
    "words = \"Today I am very happy to learn comprehensions\".split()\n",
    "words"
   ]
  },
  {
   "cell_type": "code",
   "execution_count": 5,
   "metadata": {},
   "outputs": [
    {
     "name": "stdout",
     "output_type": "stream",
     "text": [
      "[5, 1, 2, 4, 5, 2, 5, 14]\n"
     ]
    }
   ],
   "source": [
    "# Traditional way \n",
    "l = []\n",
    "for item in words:\n",
    "    l.append(len(item))\n",
    "print(l)"
   ]
  },
  {
   "cell_type": "code",
   "execution_count": 3,
   "metadata": {},
   "outputs": [
    {
     "data": {
      "text/plain": [
       "[5, 1, 2, 4, 5, 2, 5, 14]"
      ]
     },
     "execution_count": 3,
     "metadata": {},
     "output_type": "execute_result"
    }
   ],
   "source": [
    "# Now use a comprehension\n",
    "[len(word) for word in words]"
   ]
  },
  {
   "cell_type": "markdown",
   "metadata": {},
   "source": [
    "#### Task: Find the number of digits of the first 20 factorial using range function "
   ]
  },
  {
   "cell_type": "code",
   "execution_count": 14,
   "metadata": {},
   "outputs": [
    {
     "name": "stdout",
     "output_type": "stream",
     "text": [
      "[1, 1, 1, 1, 2, 3, 3, 4, 5, 6, 7, 8, 9, 10, 11, 13, 14, 15, 16, 18]\n"
     ]
    }
   ],
   "source": [
    "from math import factorial\n",
    "l = []\n",
    "for i in range(20):\n",
    "    l.append(len(str(factorial(i))))\n",
    "    #print(factorial(i))\n",
    "print(l)"
   ]
  },
  {
   "cell_type": "code",
   "execution_count": 16,
   "metadata": {},
   "outputs": [
    {
     "name": "stdout",
     "output_type": "stream",
     "text": [
      "[1, 1, 1, 1, 2, 3, 3, 4, 5, 6, 7, 8, 9, 10, 11, 13, 14, 15, 16, 18]\n",
      "<class 'list'>\n"
     ]
    }
   ],
   "source": [
    "# Now use a list comprehension\n",
    "f = [len(str(factorial(x))) for x in range(20)]\n",
    "print(f)\n",
    "print(type(f))"
   ]
  },
  {
   "cell_type": "markdown",
   "metadata": {},
   "source": [
    "## Set Comprehensions\n",
    " syntax: **{expr(item) for item in iterable}**"
   ]
  },
  {
   "cell_type": "code",
   "execution_count": 17,
   "metadata": {},
   "outputs": [
    {
     "name": "stdout",
     "output_type": "stream",
     "text": [
      "{1, 2, 3, 4, 5, 6, 7, 8, 9, 10, 11, 13, 14, 15, 16, 18}\n",
      "<class 'set'>\n"
     ]
    }
   ],
   "source": [
    "# Set comprehension\n",
    "f = {len(str(factorial(x))) for x in range(20)}\n",
    "print(f)\n",
    "print(type(f))"
   ]
  },
  {
   "cell_type": "markdown",
   "metadata": {},
   "source": [
    "## Dictionary Comprehension\n",
    "\n",
    "syntax: **{key_expr:value_expr for item in iterable}**"
   ]
  },
  {
   "cell_type": "code",
   "execution_count": 19,
   "metadata": {},
   "outputs": [
    {
     "name": "stdout",
     "output_type": "stream",
     "text": [
      "{'AAPL': 416, 'BIT': 12345, 'GOOG': 891, 'HBO': 321, 'IBM': 239, 'YHOO': 12}\n"
     ]
    }
   ],
   "source": [
    "from pprint import pprint as pp\n",
    "stocks = {\"GOOG\":891, \"AAPL\":416, \"IBM\":239, \n",
    "          \"HBO\":321, \"YHOO\":12, \"BIT\":12345}\n",
    "pp(stocks)"
   ]
  },
  {
   "cell_type": "code",
   "execution_count": 20,
   "metadata": {},
   "outputs": [
    {
     "name": "stdout",
     "output_type": "stream",
     "text": [
      "{891: 'GOOG', 416: 'AAPL', 239: 'IBM', 321: 'HBO', 12: 'YHOO', 12345: 'BIT'}\n"
     ]
    }
   ],
   "source": [
    "# Dictionary Comprehension\n",
    "d = {v:l for l, v in stocks.items()}\n",
    "print(d)\n"
   ]
  },
  {
   "cell_type": "code",
   "execution_count": 21,
   "metadata": {},
   "outputs": [
    {
     "data": {
      "text/plain": [
       "['Hi', 'Hello', 'Foxtrot', 'Hotel', 'Adios']"
      ]
     },
     "execution_count": 21,
     "metadata": {},
     "output_type": "execute_result"
    }
   ],
   "source": [
    "words = \"Hi Hello Foxtrot Hotel Adios\".split()\n",
    "words"
   ]
  },
  {
   "cell_type": "code",
   "execution_count": 24,
   "metadata": {},
   "outputs": [
    {
     "name": "stdout",
     "output_type": "stream",
     "text": [
      "{'Hi': 'Hi', 'Hel': 'Hello', 'Fox': 'Foxtrot', 'Hot': 'Hotel', 'Adi': 'Adios'}\n"
     ]
    }
   ],
   "source": [
    "d = {x[:3]:x for x in words}\n",
    "print(d)"
   ]
  },
  {
   "cell_type": "markdown",
   "metadata": {},
   "source": [
    "## Filter Predicates\n",
    "All three types of comprehension suppor **optional filtering clause** of a list of comprehension which allows you to chose which items of source are evaluated by the expression on the left. "
   ]
  },
  {
   "cell_type": "markdown",
   "metadata": {},
   "source": [
    "# Iterator Protocols\n",
    "Comprehensions and for loops are the most frequently used language features for performing iterations.\n",
    "\n",
    "We have **iterable** object and the **iterator** object. Both of which reflect python protocol\n",
    "\n",
    "The **iterable** protocol allows you to pass an iterable object, usualy a collection or stream of objects, to the **iter()** function to get an iterator for the iterable object. \n",
    "\n",
    "The **iterator** object supports the iterator protocol, which requires that we can pass the iterator object to the built-in **next()** to fetch the next value. "
   ]
  },
  {
   "cell_type": "code",
   "execution_count": 26,
   "metadata": {},
   "outputs": [
    {
     "name": "stdout",
     "output_type": "stream",
     "text": [
      "<class 'list_iterator'>\n"
     ]
    }
   ],
   "source": [
    "iterable = ['Spring', 'Summer', 'Fall', 'Winter']\n",
    "iterator = iter(iterable)\n",
    "print(type(iterator))"
   ]
  },
  {
   "cell_type": "code",
   "execution_count": 27,
   "metadata": {},
   "outputs": [
    {
     "data": {
      "text/plain": [
       "'Spring'"
      ]
     },
     "execution_count": 27,
     "metadata": {},
     "output_type": "execute_result"
    }
   ],
   "source": [
    "next(iterator)"
   ]
  },
  {
   "cell_type": "code",
   "execution_count": 28,
   "metadata": {},
   "outputs": [
    {
     "data": {
      "text/plain": [
       "'Summer'"
      ]
     },
     "execution_count": 28,
     "metadata": {},
     "output_type": "execute_result"
    }
   ],
   "source": [
    "next(iterator)"
   ]
  },
  {
   "cell_type": "code",
   "execution_count": 29,
   "metadata": {},
   "outputs": [
    {
     "data": {
      "text/plain": [
       "'Fall'"
      ]
     },
     "execution_count": 29,
     "metadata": {},
     "output_type": "execute_result"
    }
   ],
   "source": [
    "next(iterator)"
   ]
  },
  {
   "cell_type": "code",
   "execution_count": 30,
   "metadata": {},
   "outputs": [
    {
     "data": {
      "text/plain": [
       "'Winter'"
      ]
     },
     "execution_count": 30,
     "metadata": {},
     "output_type": "execute_result"
    }
   ],
   "source": [
    "next(iterator)"
   ]
  },
  {
   "cell_type": "code",
   "execution_count": 31,
   "metadata": {},
   "outputs": [
    {
     "ename": "StopIteration",
     "evalue": "",
     "output_type": "error",
     "traceback": [
      "\u001b[1;31m---------------------------------------------------------------------------\u001b[0m",
      "\u001b[1;31mStopIteration\u001b[0m                             Traceback (most recent call last)",
      "\u001b[1;32m<ipython-input-31-3733e97f93d6>\u001b[0m in \u001b[0;36m<module>\u001b[1;34m()\u001b[0m\n\u001b[1;32m----> 1\u001b[1;33m \u001b[0mnext\u001b[0m\u001b[1;33m(\u001b[0m\u001b[0miterator\u001b[0m\u001b[1;33m)\u001b[0m\u001b[1;33m\u001b[0m\u001b[0m\n\u001b[0m",
      "\u001b[1;31mStopIteration\u001b[0m: "
     ]
    }
   ],
   "source": [
    "next(iterator)"
   ]
  },
  {
   "cell_type": "markdown",
   "metadata": {},
   "source": [
    "## Generators\n",
    "One of the most powerful and elegant features of Python\n",
    "* Describe iterables series with code and functions\n",
    "* Are **lazy** evaluated: the next value in the sequence is computed on demand\n",
    "* Can model infinite sequences: such as data streams with no definite end\n",
    "* Are composed into sophisticated pipelines: for natural stream process. \n",
    "\n",
    "Generators are defined by any Python function which uses the **yield** keyword at least once. And just like any other function it has an implicit return at the end of the definition."
   ]
  },
  {
   "cell_type": "code",
   "execution_count": 32,
   "metadata": {
    "collapsed": true
   },
   "outputs": [],
   "source": [
    "def gen123():\n",
    "    yield 1\n",
    "    yield 2\n",
    "    yield 3"
   ]
  },
  {
   "cell_type": "code",
   "execution_count": 33,
   "metadata": {},
   "outputs": [
    {
     "name": "stdout",
     "output_type": "stream",
     "text": [
      "<generator object gen123 at 0x0000022AD28FC570>\n",
      "<class 'generator'>\n"
     ]
    }
   ],
   "source": [
    "g = gen123()\n",
    "print(g)\n",
    "print(type(g))"
   ]
  },
  {
   "cell_type": "code",
   "execution_count": 34,
   "metadata": {},
   "outputs": [
    {
     "data": {
      "text/plain": [
       "1"
      ]
     },
     "execution_count": 34,
     "metadata": {},
     "output_type": "execute_result"
    }
   ],
   "source": [
    "next(g)"
   ]
  },
  {
   "cell_type": "code",
   "execution_count": 35,
   "metadata": {},
   "outputs": [
    {
     "data": {
      "text/plain": [
       "2"
      ]
     },
     "execution_count": 35,
     "metadata": {},
     "output_type": "execute_result"
    }
   ],
   "source": [
    "next(g)"
   ]
  },
  {
   "cell_type": "code",
   "execution_count": 36,
   "metadata": {},
   "outputs": [
    {
     "data": {
      "text/plain": [
       "3"
      ]
     },
     "execution_count": 36,
     "metadata": {},
     "output_type": "execute_result"
    }
   ],
   "source": [
    "next(g)"
   ]
  },
  {
   "cell_type": "code",
   "execution_count": 37,
   "metadata": {},
   "outputs": [
    {
     "ename": "StopIteration",
     "evalue": "",
     "output_type": "error",
     "traceback": [
      "\u001b[1;31m---------------------------------------------------------------------------\u001b[0m",
      "\u001b[1;31mStopIteration\u001b[0m                             Traceback (most recent call last)",
      "\u001b[1;32m<ipython-input-37-5f315c5de15b>\u001b[0m in \u001b[0;36m<module>\u001b[1;34m()\u001b[0m\n\u001b[1;32m----> 1\u001b[1;33m \u001b[0mnext\u001b[0m\u001b[1;33m(\u001b[0m\u001b[0mg\u001b[0m\u001b[1;33m)\u001b[0m\u001b[1;33m\u001b[0m\u001b[0m\n\u001b[0m",
      "\u001b[1;31mStopIteration\u001b[0m: "
     ]
    }
   ],
   "source": [
    "next(g)"
   ]
  },
  {
   "cell_type": "code",
   "execution_count": 38,
   "metadata": {},
   "outputs": [
    {
     "name": "stdout",
     "output_type": "stream",
     "text": [
      "1\n",
      "2\n",
      "3\n"
     ]
    }
   ],
   "source": [
    "for v in gen123():\n",
    "    print(v)\n",
    "    \n",
    "# Be aware that each call to the generator functions, \n",
    "# returns a new generator object"
   ]
  },
  {
   "cell_type": "code",
   "execution_count": 39,
   "metadata": {},
   "outputs": [
    {
     "name": "stdout",
     "output_type": "stream",
     "text": [
      "<generator object gen123 at 0x0000022AD28FC3B8>\n",
      "<generator object gen123 at 0x0000022AD28FCA40>\n"
     ]
    }
   ],
   "source": [
    "h = gen123()\n",
    "i = gen123()\n",
    "print(h)\n",
    "print(i)"
   ]
  },
  {
   "cell_type": "code",
   "execution_count": 40,
   "metadata": {},
   "outputs": [
    {
     "data": {
      "text/plain": [
       "False"
      ]
     },
     "execution_count": 40,
     "metadata": {},
     "output_type": "execute_result"
    }
   ],
   "source": [
    "h is i"
   ]
  },
  {
   "cell_type": "code",
   "execution_count": 41,
   "metadata": {},
   "outputs": [
    {
     "name": "stdout",
     "output_type": "stream",
     "text": [
      "1\n",
      "2\n"
     ]
    }
   ],
   "source": [
    "print(next(h))\n",
    "print(next(h))"
   ]
  },
  {
   "cell_type": "code",
   "execution_count": 42,
   "metadata": {},
   "outputs": [
    {
     "name": "stdout",
     "output_type": "stream",
     "text": [
      "1\n"
     ]
    }
   ],
   "source": [
    "print(next(i))"
   ]
  },
  {
   "cell_type": "markdown",
   "metadata": {},
   "source": [
    "## Generator\n",
    "Generators are a cross between comprehensions a generator function. They use similar syntax as comprehensions, but they result in the creation of a generator object, which produces the specified sequence lazily. \n",
    "\n",
    "Syntax: **(expr(item) for item in iterable) **"
   ]
  },
  {
   "cell_type": "code",
   "execution_count": 47,
   "metadata": {},
   "outputs": [
    {
     "name": "stdout",
     "output_type": "stream",
     "text": [
      "<generator object <genexpr> at 0x0000022AD28FCB48>\n",
      "<class 'generator'>\n"
     ]
    }
   ],
   "source": [
    "# Task: list the first 1 million square numbers\n",
    "m_sq = (x*x for x in range(1, 11))\n",
    "print(m_sq)\n",
    "print(type(m_sq))"
   ]
  },
  {
   "cell_type": "code",
   "execution_count": 48,
   "metadata": {},
   "outputs": [
    {
     "data": {
      "text/plain": [
       "[1, 4, 9, 16, 25, 36, 49, 64, 81, 100]"
      ]
     },
     "execution_count": 48,
     "metadata": {},
     "output_type": "execute_result"
    }
   ],
   "source": [
    "list(m_sq)"
   ]
  },
  {
   "cell_type": "code",
   "execution_count": 49,
   "metadata": {},
   "outputs": [
    {
     "data": {
      "text/plain": [
       "333333833333500000"
      ]
     },
     "execution_count": 49,
     "metadata": {},
     "output_type": "execute_result"
    }
   ],
   "source": [
    "# Get the sum of the first 1 million square numbers\n",
    "sum(x*x for x in range(1, 1000001))"
   ]
  },
  {
   "cell_type": "markdown",
   "metadata": {},
   "source": [
    "## Other tools: itertool module\n",
    "* count()\n",
    "* islice()"
   ]
  },
  {
   "cell_type": "code",
   "execution_count": 50,
   "metadata": {
    "collapsed": true
   },
   "outputs": [],
   "source": [
    "from itertools import islice, count\n"
   ]
  },
  {
   "cell_type": "markdown",
   "metadata": {},
   "source": [
    "### Other built-in functions\n",
    "* any\n",
    "* all"
   ]
  },
  {
   "cell_type": "code",
   "execution_count": 51,
   "metadata": {},
   "outputs": [
    {
     "data": {
      "text/plain": [
       "True"
      ]
     },
     "execution_count": 51,
     "metadata": {},
     "output_type": "execute_result"
    }
   ],
   "source": [
    "any([False, False, True])"
   ]
  },
  {
   "cell_type": "code",
   "execution_count": 52,
   "metadata": {},
   "outputs": [
    {
     "data": {
      "text/plain": [
       "False"
      ]
     },
     "execution_count": 52,
     "metadata": {},
     "output_type": "execute_result"
    }
   ],
   "source": [
    "all([False, False, True])"
   ]
  },
  {
   "cell_type": "code",
   "execution_count": 54,
   "metadata": {},
   "outputs": [
    {
     "data": {
      "text/plain": [
       "False"
      ]
     },
     "execution_count": 54,
     "metadata": {},
     "output_type": "execute_result"
    }
   ],
   "source": [
    "# Test all names in an iterable are with Upper case letter\n",
    "all(name == name.title() for name in ['London','sydney', 'Ogden'])"
   ]
  },
  {
   "cell_type": "markdown",
   "metadata": {},
   "source": [
    "### zip\n",
    "Synchronize iterations over two or more iterables"
   ]
  },
  {
   "cell_type": "code",
   "execution_count": 55,
   "metadata": {},
   "outputs": [
    {
     "name": "stdout",
     "output_type": "stream",
     "text": [
      "(12, 13)\n",
      "(14, 14)\n",
      "(15, 14)\n",
      "(15, 14)\n",
      "(17, 16)\n",
      "(21, 20)\n",
      "(22, 21)\n",
      "(22, 22)\n",
      "(23, 22)\n",
      "(22, 21)\n",
      "(20, 19)\n",
      "(18, 17)\n"
     ]
    }
   ],
   "source": [
    "sunday = [12, 14, 15, 15, 17, 21, 22, 22, 23, 22, 20, 18]\n",
    "monday = [13, 14, 14, 14, 16 ,20, 21, 22, 22, 21, 19, 17]\n",
    "\n",
    "for item in zip(sunday, monday):\n",
    "    print(item)"
   ]
  },
  {
   "cell_type": "code",
   "execution_count": 56,
   "metadata": {},
   "outputs": [
    {
     "name": "stdout",
     "output_type": "stream",
     "text": [
      "Average = 12.5\n",
      "Average = 14.0\n",
      "Average = 14.5\n",
      "Average = 14.5\n",
      "Average = 16.5\n",
      "Average = 20.5\n",
      "Average = 21.5\n",
      "Average = 22.0\n",
      "Average = 22.5\n",
      "Average = 21.5\n",
      "Average = 19.5\n",
      "Average = 17.5\n"
     ]
    }
   ],
   "source": [
    "for sun, mon in zip(sunday, monday):\n",
    "    print(\"Average =\", (sun + mon)/2)"
   ]
  },
  {
   "cell_type": "code",
   "execution_count": 57,
   "metadata": {},
   "outputs": [
    {
     "name": "stdout",
     "output_type": "stream",
     "text": [
      "min= 8.0, max = 13.0, avg=11.0\n",
      "min= 8.0, max = 14.0, avg=12.0\n",
      "min=10.0, max = 15.0, avg=13.0\n",
      "min=10.0, max = 15.0, avg=13.0\n",
      "min=11.0, max = 17.0, avg=14.7\n",
      "min=12.0, max = 21.0, avg=17.7\n",
      "min=11.0, max = 22.0, avg=18.0\n",
      "min=10.0, max = 22.0, avg=18.0\n",
      "min= 9.0, max = 23.0, avg=18.0\n",
      "min= 8.0, max = 22.0, avg=17.0\n",
      "min= 6.0, max = 20.0, avg=15.0\n",
      "min= 5.0, max = 18.0, avg=13.3\n"
     ]
    }
   ],
   "source": [
    "sunday =  [12, 14, 15, 15, 17, 21, 22, 22, 23, 22, 20, 18]\n",
    "monday =  [13, 14, 14, 14, 16, 20, 21, 22, 22, 21, 19, 17]\n",
    "tuesday = [8,   8, 10, 10, 11, 12, 11, 10, 9,   8,  6,  5]\n",
    "\n",
    "for temps in zip(sunday, monday, tuesday):\n",
    "    print(\"min={:4.1f}, max = {:4.1f}, avg={:4.1f}\".format(\n",
    "    min(temps), max(temps), sum(temps)/len(temps)))"
   ]
  },
  {
   "cell_type": "code",
   "execution_count": 58,
   "metadata": {},
   "outputs": [
    {
     "data": {
      "text/plain": [
       "True"
      ]
     },
     "execution_count": 58,
     "metadata": {},
     "output_type": "execute_result"
    }
   ],
   "source": [
    "from itertools import chain\n",
    "\n",
    "temp = chain(sunday, monday, tuesday)\n",
    "all(t > 0 for t in temp)"
   ]
  },
  {
   "cell_type": "markdown",
   "metadata": {},
   "source": [
    "# Classes"
   ]
  },
  {
   "cell_type": "code",
   "execution_count": 61,
   "metadata": {},
   "outputs": [
    {
     "name": "stdout",
     "output_type": "stream",
     "text": [
      "<class 'int'>\n"
     ]
    }
   ],
   "source": [
    "print(type(5))"
   ]
  },
  {
   "cell_type": "code",
   "execution_count": 62,
   "metadata": {},
   "outputs": [
    {
     "name": "stdout",
     "output_type": "stream",
     "text": [
      "<class 'str'>\n"
     ]
    }
   ],
   "source": [
    "print(type('python'))"
   ]
  },
  {
   "cell_type": "code",
   "execution_count": 63,
   "metadata": {},
   "outputs": [
    {
     "name": "stdout",
     "output_type": "stream",
     "text": [
      "<class 'list'>\n"
     ]
    }
   ],
   "source": [
    "print(type([1, 2]))"
   ]
  },
  {
   "cell_type": "code",
   "execution_count": 64,
   "metadata": {},
   "outputs": [
    {
     "name": "stdout",
     "output_type": "stream",
     "text": [
      "<class 'generator'>\n"
     ]
    }
   ],
   "source": [
    "print(type((x*x for x in [1, 2])))"
   ]
  },
  {
   "cell_type": "markdown",
   "metadata": {},
   "source": [
    "* Classes use the keyword **class** to declare a new object\n",
    "* by convention the first argument to all instance method is **self**, but it is not a keyword."
   ]
  },
  {
   "cell_type": "markdown",
   "metadata": {},
   "source": [
    "To initialize your object, you must call the **double underscore init delimited** which is used by the Python machinery to initialized your object (**\\_\\_init\\_\\_**)"
   ]
  },
  {
   "cell_type": "markdown",
   "metadata": {},
   "source": [
    "There are not public, private, or protected areas in the Python class\n",
    "\n",
    "Use leading underscore to signal \"private\" data or method members. "
   ]
  },
  {
   "cell_type": "markdown",
   "metadata": {},
   "source": [
    "# Polymorphism and Duck Typing\n",
    "Using objects of different types throught a common interface it applies to function and more complex objects. \n"
   ]
  },
  {
   "cell_type": "markdown",
   "metadata": {},
   "source": [
    "## Inheritance \n",
    "Is a mechanism whereby one class can be **derived form a base-class** allowing us to make behavior more specific in the **sub-class**. "
   ]
  },
  {
   "cell_type": "markdown",
   "metadata": {},
   "source": [
    "# Files and Resource Management\n",
    "Use **open()** function. It has one required field, and other are optional. \n",
    "\n",
    "Files in binary mode return  and manipulate their content as bytes objects without any decoding. \n",
    "\n",
    "Binary is raw data. \n",
    "\n",
    "A file opened in text mode, treats its content as strings. \n",
    "\n",
    "Note: Getting the encoding right is very important"
   ]
  },
  {
   "cell_type": "code",
   "execution_count": 65,
   "metadata": {},
   "outputs": [
    {
     "data": {
      "text/plain": [
       "'utf-8'"
      ]
     },
     "execution_count": 65,
     "metadata": {},
     "output_type": "execute_result"
    }
   ],
   "source": [
    "# To check the system's encoding\n",
    "import sys\n",
    "sys.getdefaultencoding()"
   ]
  },
  {
   "cell_type": "markdown",
   "metadata": {},
   "source": [
    "## Writing Text Files\n",
    "Open a file for writing purposes **(wt)**"
   ]
  },
  {
   "cell_type": "code",
   "execution_count": 67,
   "metadata": {},
   "outputs": [
    {
     "name": "stdout",
     "output_type": "stream",
     "text": [
      "<class '_io.TextIOWrapper'>\n"
     ]
    }
   ],
   "source": [
    "f = open(\"test.txt\", mode='wt', encoding='utf-8')\n",
    "print(type(f))"
   ]
  },
  {
   "cell_type": "code",
   "execution_count": 70,
   "metadata": {},
   "outputs": [
    {
     "data": {
      "text/plain": [
       "28"
      ]
     },
     "execution_count": 70,
     "metadata": {},
     "output_type": "execute_result"
    }
   ],
   "source": [
    "# for help\n",
    "#help(f)\n",
    "# Write info to file\n",
    "f.write(\"When are we going to finish?\")"
   ]
  },
  {
   "cell_type": "code",
   "execution_count": 71,
   "metadata": {
    "collapsed": true
   },
   "outputs": [],
   "source": [
    "f.write(\"This is more information.\")\n",
    "# Always close the files\n",
    "f.close()"
   ]
  },
  {
   "cell_type": "markdown",
   "metadata": {},
   "source": [
    "## Read from files\n",
    "Use the **open()** method. Use the **(rt)** mode, for reading text. "
   ]
  },
  {
   "cell_type": "code",
   "execution_count": 72,
   "metadata": {},
   "outputs": [
    {
     "data": {
      "text/plain": [
       "'When are we going to fini'"
      ]
     },
     "execution_count": 72,
     "metadata": {},
     "output_type": "execute_result"
    }
   ],
   "source": [
    "g = open('test.txt', mode='rt', encoding='utf-8')\n",
    "g.read(25)"
   ]
  },
  {
   "cell_type": "code",
   "execution_count": 75,
   "metadata": {},
   "outputs": [],
   "source": [
    "g.read()\n",
    "g.close() # close file"
   ]
  },
  {
   "cell_type": "code",
   "execution_count": 76,
   "metadata": {},
   "outputs": [
    {
     "data": {
      "text/plain": [
       "['When are we going to finish?This is more information.']"
      ]
     },
     "execution_count": 76,
     "metadata": {},
     "output_type": "execute_result"
    }
   ],
   "source": [
    "g = open('test.txt', mode='rt', encoding='utf-8')\n",
    "g.readlines()"
   ]
  },
  {
   "cell_type": "code",
   "execution_count": 77,
   "metadata": {
    "collapsed": true
   },
   "outputs": [],
   "source": [
    "g.close()"
   ]
  },
  {
   "cell_type": "markdown",
   "metadata": {},
   "source": [
    "## Appending to Text files\n",
    "use the **mode='at'**\n",
    "\n",
    "Also use the **writelines()** method, that can take a list of strings. "
   ]
  },
  {
   "cell_type": "code",
   "execution_count": 78,
   "metadata": {
    "collapsed": true
   },
   "outputs": [],
   "source": [
    "h = open('test.txt', mode='at', encoding='utf-8')\n",
    "h.writelines(\n",
    "[\"We are learning Python\\n\",\n",
    "\"Which I was not aware of\\n\",\n",
    "\"how cool it is\\n\"])\n",
    "\n",
    "h.close()"
   ]
  },
  {
   "cell_type": "markdown",
   "metadata": {},
   "source": [
    "## Files as iterators\n",
    "Files support iterator protocol with each iteration yielding the new line in the file. We can use for loops and any other palce where an iterator can be used. "
   ]
  },
  {
   "cell_type": "code",
   "execution_count": null,
   "metadata": {
    "collapsed": true
   },
   "outputs": [],
   "source": []
  }
 ],
 "metadata": {
  "kernelspec": {
   "display_name": "Python 3",
   "language": "python",
   "name": "python3"
  },
  "language_info": {
   "codemirror_mode": {
    "name": "ipython",
    "version": 3
   },
   "file_extension": ".py",
   "mimetype": "text/x-python",
   "name": "python",
   "nbconvert_exporter": "python",
   "pygments_lexer": "ipython3",
   "version": "3.6.3"
  }
 },
 "nbformat": 4,
 "nbformat_minor": 2
}
