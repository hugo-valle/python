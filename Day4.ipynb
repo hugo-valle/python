{
 "cells": [
  {
   "cell_type": "markdown",
   "metadata": {},
   "source": [
    "### Mapping files with Try..Finally\n",
    "\n",
    "Note: See recaman.py"
   ]
  },
  {
   "cell_type": "markdown",
   "metadata": {},
   "source": [
    " ## Context managers and with-blocks\n",
    " \n",
    " Opening and closing is the best practice. The need for resource cleanup is common enough that in Python we implement a specific control flow structure called **with-block**. **With-block** can be used with any object which supports the context-manager protocol, and that includes the file objects returned by **open()**\n",
    " \n",
    " Note: See recaman.py"
   ]
  },
  {
   "cell_type": "markdown",
   "metadata": {},
   "source": [
    "### Files like Objects\n",
    "There is a notion in Python of file-like objects. This isn't as formal as a specific protocol like sequence protocol is to tuple or list. But, thanks to **polymorphism** afforded by **duck typing** it works well in practice.  This is where it is easier to **ask for forgiveness than permission** philosophy comes into play. \n",
    "\n",
    " Note: See recaman.py"
   ]
  },
  {
   "cell_type": "code",
   "execution_count": null,
   "metadata": {
    "collapsed": true
   },
   "outputs": [],
   "source": []
  }
 ],
 "metadata": {
  "kernelspec": {
   "display_name": "Python 3",
   "language": "python",
   "name": "python3"
  },
  "language_info": {
   "codemirror_mode": {
    "name": "ipython",
    "version": 3
   },
   "file_extension": ".py",
   "mimetype": "text/x-python",
   "name": "python",
   "nbconvert_exporter": "python",
   "pygments_lexer": "ipython3",
   "version": "3.6.3"
  }
 },
 "nbformat": 4,
 "nbformat_minor": 2
}
